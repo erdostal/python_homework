{
 "cells": [
  {
   "cell_type": "code",
   "execution_count": 6,
   "metadata": {
    "collapsed": true
   },
   "outputs": [],
   "source": [
    "from Bio import SeqIO\n",
    "from Bio.Data import CodonTable\n",
    "import pandas as pd"
   ]
  },
  {
   "cell_type": "code",
   "execution_count": 7,
   "metadata": {
    "collapsed": true
   },
   "outputs": [],
   "source": [
    "#def defines a function called get_sequences_from_file, it's input will be a fasta\n",
    "def get_sequences_from_file(fasta_fn):\n",
    "#creating a dictionary \n",
    "    sequence_data_dict = {}\n",
    "#for loop that goes through each fasta entry \n",
    "    for record in SeqIO.parse(fasta_fn, \"fasta\"):\n",
    "#pulls out description\n",
    "        description = record.description.split()\n",
    "#pulls out species name\n",
    "        species_name = description[1] + \" \" + description[2]\n",
    "#using dictionary, key is species name, values are sequence records\n",
    "        sequence_data_dict[species_name] = record.seq\n",
    "#returns dictionary \n",
    "    return(sequence_data_dict)"
   ]
  },
  {
   "cell_type": "code",
   "execution_count": 8,
   "metadata": {
    "collapsed": false
   },
   "outputs": [],
   "source": [
    "cytb_seqs = get_sequences_from_file(\"bears_cytb.fasta\") "
   ]
  },
  {
   "cell_type": "code",
   "execution_count": 11,
   "metadata": {
    "collapsed": false
   },
   "outputs": [
    {
     "data": {
      "text/plain": [
       "{'Ailuropoda melanoleuca': Seq('ATGATCAACATCCGAAAAACTCATCCATTAGTTAAAATTATCAACAACTCATTC...AGA', SingleLetterAlphabet()),\n",
       " 'Helarctos malayanus': Seq('ATGACCAACATCCGAAAAACCCACCCATTAGCTAAAATCATTAACAACTCACTT...AGA', SingleLetterAlphabet()),\n",
       " 'Melursus ursinus': Seq('ATGACCAACATCCGAAAAACCCACCCATTAGCTAAAATCATTAACAACTCACTC...AGA', SingleLetterAlphabet()),\n",
       " 'Tremarctos ornatus': Seq('ATGACCAACATCCGAAAAACTCACCCACTAGCTAAAATCATCAACAGCTCATTC...AGA', SingleLetterAlphabet()),\n",
       " 'Ursus americanus': Seq('ATGACCAACATCCGAAAAACCCACCCATTAGCTAAAATCATCAACAACTCACTT...AGA', SingleLetterAlphabet()),\n",
       " 'Ursus arctos': Seq('ATGACCAACATCCGAAAAACCCACCCATTAGCTAAAATCATCAACAACTCACTT...AGA', SingleLetterAlphabet()),\n",
       " 'Ursus maritimus': Seq('ATGACCAACATCCGAAAAACCCACCCATTAGCTAAAATCATCAACAACTCATTT...AGA', SingleLetterAlphabet()),\n",
       " 'Ursus spelaeus': Seq('ATGACCAACATCCGAAAAACCCATCCATTAGCTAAAATCATCAACAACTCATTT...AGA', SingleLetterAlphabet()),\n",
       " 'Ursus thibetanus': Seq('ATGACCAACATCCGAAAAACCCATCCATTAGCCAAAATCATCAACAACTCACTC...AGA', SingleLetterAlphabet())}"
      ]
     },
     "execution_count": 11,
     "metadata": {},
     "output_type": "execute_result"
    }
   ],
   "source": [
    "cytb_seqs"
   ]
  },
  {
   "cell_type": "code",
   "execution_count": 17,
   "metadata": {
    "collapsed": false
   },
   "outputs": [],
   "source": [
    "#Define a function that will take a string of nucleotides as input and return amino acid sequence\n",
    "def translate_function(string_nucleotides): \n",
    "#Using condon table from biopython to collect verterbrate mitochnodrial code = mito_table \n",
    "    mito_table = CodonTable.unambiguous_dna_by_name[\"Vertebrate Mitochondrial\"]\n",
    "    aa_seq_string = \"\"\n",
    "#For every third letter in the nucleotide string\n",
    "    for n in range(0,len(string_nucleotides)-3, 3):\n",
    "        codon = string_nucleotides[n:n+3]\n",
    "#Return codon from mito_table and create new string called aa_seq_string\n",
    "        aa_seq_string += (mito_table.forward_table[codon])\n",
    "#Return aa_seq_string which should have amino acids now instead of codons\n",
    "    return(aa_seq_string)"
   ]
  },
  {
   "cell_type": "code",
   "execution_count": 18,
   "metadata": {
    "collapsed": false
   },
   "outputs": [
    {
     "data": {
      "text/plain": [
       "'NGPG'"
      ]
     },
     "execution_count": 18,
     "metadata": {},
     "output_type": "execute_result"
    }
   ],
   "source": [
    "#Test function on random nucleotide sequence\n",
    "translate_function(\"AATGGCCCGGGAAAG\")"
   ]
  },
  {
   "cell_type": "code",
   "execution_count": null,
   "metadata": {
    "collapsed": true
   },
   "outputs": [],
   "source": [
    "def get_proportion_aa_type_function(aa_seq):\n",
    "    charged = ['R','K','D','E']\n",
    "    polar = ['Q','N','H','S','T','Y','C','M','W']\n",
    "    hydrophobic = ['A','I','L','F','V','P','G']\n",
    "    proportion_charged=0\n",
    "    proportion_polar=0\n",
    "    proportion_hydro=0\n",
    "    for aa in charged:\n",
    "        # count the number of times that aa appears, add to the total for charged\n",
    "        proportion_charged += #find count function \n",
    "    # repeat for polar and hydrophobic\n",
    "    return proportion_charged, proportion_polar, proportion_hydro \n"
   ]
  },
  {
   "cell_type": "code",
   "execution_count": 20,
   "metadata": {
    "collapsed": false
   },
   "outputs": [
    {
     "name": "stdout",
     "output_type": "stream",
     "text": [
      "MTNIRKTHPLAKIINNSFIDLPTPSNISAWWNFGSLLGVCLILQILTGLFLAMHYTSDTTTAFSSITHICRDVHYGWVIRYMHANGASMFFICLFMHVGRGLYYGSYLFSETWNIGIILLLTVMATAFMGYVLPWGQMSFWGATVITNLLSAIPYIGTDLVEWIWGGFSVDKATLTRFFAFHFILPFIILALAAVHLLFLHETGSNNPSGIPSDSDKIPFHPYYTIKDILGALLLTLALAALVLFSPDLLGDPDNYTPANPLSTPPHIKPEWYFLFAYAILRFIPNKLGGVLALIFSILILAIISLLHTSKQRGMMFRPLSQCLFWLLVADLLTLTWIGGQPVEHPFIIIGQLASILYFTIPLVLMPIAGIIENNLLKW\n",
      "MTNIRKTHPLAKIINNSLIDLPTPSNISAWWNFGSLLGVCLILQILTGLFLAMHYTPDTTTAFSSVTHICRDVHYGWVIRYVHANGASIFFICLFMHVGRGLYYGSYLFSETWNIGIILLFTIMATAFMGYVLPWGQMSFWGATVITNLLSAIPYIGTDLVEWIWGGFSVDKATLTRFFAFHFILPFIILALAAVHLLFLHETGSNNPSGIPSDSDKIPFHPYYTIKDILGALLLALTLATLVLFSPDLLGDPDNYTPANPLSTPPHIKPEWYFLFAYAILRSIPNKLGGVLALIFSILILAIIPLLHTSKQRGMMFRPLSQCLFWLLVADLLTLTWIGGQPVEHPFIIIGQLASILYFTILLVLMPIAGIIENNLLKW\n",
      "MTNIRKTHPLAKIINNSLIDLPAPSNISAWWNFGSLLGMCLILQILTGLFLAMHYTSDATTAFSSVAHICRDVHYGWIIRYMHANGASMFFICLFMHVGRGLYYGSYLLSETWNIGIILLFTVMATAFMGYVLPWGQMSFWGATVITNLLSAIPYIGTDLVEWIWGGFSVDKATLTRFFAFHFILPFIILALAAVHLLFLHETGSNNPSGIPSDSDKIPFHPYYTIKDALGALLLILALATLVLFSPDLLGDPDNYTPANPLSTPPHIKPEWYFLFAYAILRSIPNKLGGVLALIFSILILAIIPLLHTSKQRGMMFRPLSQCLFWLLVADLLTLTWIGGQPVEHPFIIIGQLASILYFTILLVLMPIAGIIENNLSKW\n",
      "MTNIRKTHPLAKIINNSLIDLPAPSNISAWWNFGSLLGVCLILQILTGLFLAMHYTSDTTTAFSSVTHICRDVHYGWIIRYMHANGASMFFICLFMHVGRGLYYGSYLFSETWNTGIILLFTVMATAFMGYVLPWGQMSFWGATVITNLLSAIPYIGADLVEWIWGGFSVDKATLTRFFAFHFIFPFIILALVMVHLLFLHETGSNNPSGIPSNSDKIPFHPYYTIKDIMGALLLILALATLVLFSPDLLGDPDNYTPANPLSTPPHIKPEWYFLFAYAILRSIPNKLGGVLALIFSILILAIIPLLHTSKQRGMMFRPLSQCLFWLLVADLLTLTWIGGQPVEYPFITIGQLASILYFMILLVLMPIAGIIENNLSKW\n",
      "MTNIRKTHPLAKIINNSLIDLPTPSNISAWWNFGSLLGVCLVLQILTGLFLAMHYTSDTTTAFSSITHICRDVHYGWIIRYMHANGASMFFICLFMHVGRGLYYGSYLLSETWNIGIILLFTVMATAFMGYVLPWGQMSFWGATVITNLLSAIPYIGTDLVEWIWGGFSVNKATLTRFFAFHFILPFIILTLAAVHLLFLHETGSNNPSGIPSDSDKIPFHPYYTIKDALGALLFILALATLVLFSPDLLGDPDNYTPANPLSTPPHIKPEWYFLFAYAILRSIPNKLGGVLALIFSILILAIIPLLHTSKQRGMMFRPLSQCLFWLLVADLLTLTWIGGQPVEHPFIIIGQLASILYFTILLVLMPIAGIIENNLSKW\n",
      "MTNIRKTHPLAKIINNSLIDLPAPSNISAWWNFGSLLGVCLILQIMTGLFLAMHYTSDTTTAFSSITHICRDVHYGWIIRYMHANGASMFFICLFMHVGRGLYYGSYLFSETWNIGIILLFTVMATAFMGYVLPWGQMSFWGATVITNLLSAIPYIGTDLVEWVWGGFSVDKATLTRFFAFHFILPFIILALTAVHLLFLHETGSNNPSGIPSDSDKIPFHPYYTIKDILGALLLTLALTTLVLFSPDLLGDPDNYIPANPLSTPPHIKPEWYFLFAYAILRSIPNKLGGVLALVFSILILAIIPLLHTSKQRGMMFRPLSQCLFWLLVADLLTLTWIGGQPVEHPFTIIGQLASILYFMIFLVFMPIAGIIENNLSKW\n",
      "MINIRKTHPLVKIINNSFIDLPTPSNISTWWNFGSLLGVCLILQILTGLFLAMHYTSDTATAFSSVAHICRDVNYGWFIRYMHANGASMFFICLFMHVGRGLYYGSYLFPETWNIGIILLLTIMATAFMGYVLPWGQMSFWGATVITNLLSAIPYIGTNLVEWIWGGFSVDKATLTRFFAFHFILPFIISALAMVHLLFLHETGSNNPSGIPSDPDKIPFYPYHTIKDILGVLFLVLALMTLALFSPDLLGDPDNYTPANPLSTPPHIKPEWYFLFAYAILRSIPNKLGGVLALIFSILILTIIPLLHTSKQRSMMFRPLSQCLFWLLVADLLTLTWIGGQPVEHPFIIIGQLASILYFTILLVLMPITSIIENSLSKW\n",
      "MTNIRKTHPLAKIINSSFIDLPTPSNISAWWNFGSLLGVCLILHILTGLFLAMHYTADTTTAFSSVAHICRDVNYGWVIRYMHANGASMFFICLFMHVGRGLYYGSYLFSETWNIGIILLLTIMATAFMGYVLPWGQMSFWGATVITNLLSAIPYIGTDLVEWIWGGFSVDKATLTRFFAFHFILPFIILALAMVHLLFLHETGSNNPSGISSNSDKIPFHPYYTIKDILGVLLLLLALVTLVLFSPDLLGDPDNYTPANPVSTPLHIKPEWYFLFAYAILRSIPNKLGGVLALIFSILILAIIPLLHTSKQRGMMFRPLSQCLFWLLAADLLTLTWIGGQPVEHPLVIIGQLASILYFTILLVLMPIAGIIENNLSKW\n",
      "MTNIRKTHPLAKIINNSFIDLPTPSNISAWWNFGSLLGVCLILQILTGLFLAMHYTSDTTTAFSSVTHICRDVHYGWVIRYVHANGASMFFICLFMHVGRGLYYGSYLFSETWNIGIILLFTVMATAFMGYVLPWGQMSFWGATVITNLLSAIPYIGTDLVEWIWGGFSVDKATLTRFFAFHFILPFIILALAAVHLLFLHETGSNNPSGIPSDSDKIPFHPYYTIKDILGALLLTLALATLVLFSPDLLGDPDNYIPANPLSTPPHIKPEWYFLFAYAILRSIPNKLGGVLALIFSILILALIPLLHTSKQRGMMFRPLSQCLFWLLVADLLTLTWIGGQPVEHPFIIIGQLASILYFTILLVLMPIAGIIENNLLKW\n"
     ]
    }
   ],
   "source": [
    "for i in cytb_seqs.keys():\n",
    "    translated = translate_function(str(cytb_seqs[i]))\n",
    "    get_proportion_aa_type(translated)\n",
    "    "
   ]
  },
  {
   "cell_type": "code",
   "execution_count": null,
   "metadata": {
    "collapsed": true
   },
   "outputs": [],
   "source": []
  }
 ],
 "metadata": {
  "kernelspec": {
   "display_name": "Python 3",
   "language": "python",
   "name": "python3"
  },
  "language_info": {
   "codemirror_mode": {
    "name": "ipython",
    "version": 3
   },
   "file_extension": ".py",
   "mimetype": "text/x-python",
   "name": "python",
   "nbconvert_exporter": "python",
   "pygments_lexer": "ipython3",
   "version": "3.6.0"
  }
 },
 "nbformat": 4,
 "nbformat_minor": 2
}
